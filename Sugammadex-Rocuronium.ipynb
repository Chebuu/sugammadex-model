{
 "metadata": {
  "language_info": {
   "codemirror_mode": {
    "name": "ipython",
    "version": 3
   },
   "file_extension": ".py",
   "mimetype": "text/x-python",
   "name": "python",
   "nbconvert_exporter": "python",
   "pygments_lexer": "ipython3",
   "version": "3.8.6-final"
  },
  "orig_nbformat": 2,
  "kernelspec": {
   "name": "Python 3.8.6 64-bit ('qcmm3.8': conda)",
   "display_name": "Python 3.8.6 64-bit ('qcmm3.8': conda)",
   "metadata": {
    "interpreter": {
     "hash": "0b535a5054be386c72440958c9b69d915653ea59ac4cbd41c6b9f6814b86b418"
    }
   }
  }
 },
 "nbformat": 4,
 "nbformat_minor": 2,
 "cells": [
  {
   "source": [
    "### Compare binding free-energies between two sugammadex-rocuronium poses using YANK.\n",
    "    - Pose #1 is the expected low-energy host-guest complex\n",
    "    - Pose #2 is the expected high-energy host-guest complex\n",
    "\n",
    "The plan is to use this data as a benchmark for future experiments with cyclodextrins."
   ],
   "cell_type": "markdown",
   "metadata": {}
  },
  {
   "cell_type": "code",
   "execution_count": null,
   "metadata": {},
   "outputs": [],
   "source": [
    "\"\"\" TODO: Fix R-COOH protons (pKa <5.0; pH 7.4)\"\"\""
   ]
  },
  {
   "cell_type": "code",
   "execution_count": null,
   "metadata": {},
   "outputs": [],
   "source": [
    "from stk import *\n",
    "\n",
    "from rdkit import Chem\n",
    "from rdkit.Chem import *\n",
    "from rdkit.Chem.Draw import IPythonConsole\n",
    "\n",
    "from py3Dmol import view as view3d"
   ]
  },
  {
   "cell_type": "code",
   "execution_count": null,
   "metadata": {},
   "outputs": [],
   "source": [
    "def display3d(mol, style='stick'):\n",
    "    mblock = Chem.MolToMolBlock(mol)\n",
    "    viewer = view3d(width=250, height=250)\n",
    "    viewer.addModel(mblock, 'mol')\n",
    "    viewer.setStyle({style:{}})\n",
    "    viewer.zoomTo()\n",
    "    return viewer"
   ]
  },
  {
   "cell_type": "code",
   "execution_count": null,
   "metadata": {},
   "outputs": [],
   "source": [
    "ROCURONIUM = 'CC(=O)O[C@H]1[C@H](C[C@@H]2[C@@]1(CC[C@H]3[C@H]2CC[C@@H]4[C@@]3(C[C@@H]([C@H](C4)O)N5CCOCC5)C)C)[N+]6(CCCC6)CC=C'\n",
    "SUGAMMADEX = 'C(CSC[C@@H]1[C@@H]2[C@@H]([C@H]([C@H](O1)O[C@@H]3[C@H](O[C@@H]([C@@H]([C@H]3O)O)O[C@@H]4[C@H](O[C@@H]([C@@H]([C@H]4O)O)O[C@@H]5[C@H](O[C@@H]([C@@H]([C@H]5O)O)O[C@@H]6[C@H](O[C@@H]([C@@H]([C@H]6O)O)O[C@@H]7[C@H](O[C@@H]([C@@H]([C@H]7O)O)O[C@@H]8[C@H](O[C@@H]([C@@H]([C@H]8O)O)O[C@@H]9[C@H](O[C@H](O2)[C@@H]([C@H]9O)O)CSCCC(=O)O)CSCCC(=O)O)CSCCC(=O)O)CSCCC(=O)O)CSCCC(=O)O)CSCCC(=O)O)CSCCC(=O)O)O)O)C(=O)O'"
   ]
  },
  {
   "cell_type": "code",
   "execution_count": null,
   "metadata": {},
   "outputs": [],
   "source": [
    "roc_RdkMol = Chem.MolFromSmiles(ROCURONIUM)\n",
    "sug_RdkMol = Chem.MolFromSmiles(SUGAMMADEX)"
   ]
  },
  {
   "cell_type": "code",
   "execution_count": null,
   "metadata": {},
   "outputs": [],
   "source": [
    "Draw.MolsToGridImage([sug_RdkMol, roc_RdkMol])"
   ]
  },
  {
   "cell_type": "code",
   "execution_count": null,
   "metadata": {},
   "outputs": [],
   "source": [
    "sugammadex = BuildingBlock(SUGAMMADEX)\n",
    "rocuronium = BuildingBlock(ROCURONIUM)"
   ]
  },
  {
   "cell_type": "code",
   "execution_count": null,
   "metadata": {},
   "outputs": [],
   "source": [
    "\"\"\" Adjust the stk alignment \"\"\"\n",
    "roc_start = rocuronium.get_direction()\n",
    "roc_target = [0,0,-1]\n",
    "roc_offset = [0,0,1]\n",
    "\n",
    "\"\"\" Flip the stk alignment \"\"\"\n",
    "anti_target = [0,0,1]\n",
    "anti_offset = [0,0,-1]"
   ]
  },
  {
   "cell_type": "code",
   "execution_count": null,
   "metadata": {},
   "outputs": [],
   "source": [
    "complejo = ConstructedMolecule(\n",
    "    topology_graph=host_guest.Complex(\n",
    "        host=sugammadex,\n",
    "        guest=rocuronium,\n",
    "        guest_start=roc_start,\n",
    "        guest_target=roc_target,\n",
    "        displacement=roc_offset\n",
    "    )\n",
    ")\n",
    "\n",
    "antiplejo = ConstructedMolecule(\n",
    "    topology_graph=host_guest.Complex(\n",
    "        host=sugammadex,\n",
    "        guest=rocuronium,\n",
    "        guest_start=anti_start,\n",
    "        guest_target=anti_target,\n",
    "        displacement=anti_offset\n",
    "    )\n",
    ")"
   ]
  },
  {
   "cell_type": "code",
   "execution_count": null,
   "metadata": {},
   "outputs": [],
   "source": [
    "complejo_RdkMol = complejo.to_rdkit_mol()\n",
    "display3d(complejo_RdkMol)"
   ]
  },
  {
   "cell_type": "code",
   "execution_count": null,
   "metadata": {},
   "outputs": [],
   "source": [
    "antiplejo_RdkMol = antiplejo.to_rdkit_mol()\n",
    "display3d(antiplejo_RdkMol)"
   ]
  },
  {
   "cell_type": "code",
   "execution_count": null,
   "metadata": {},
   "outputs": [],
   "source": [
    "# complejo.write('sug-roc_1.sdf')\n",
    "sug1, roc1 = tuple(complejo.get_building_blocks())\n",
    "sug1.write('sug_1.sdf')\n",
    "roc1.write('roc_1.sdf')"
   ]
  },
  {
   "cell_type": "code",
   "execution_count": null,
   "metadata": {},
   "outputs": [],
   "source": [
    "# antiplejo.write('sug-roc_2.sdf')\n",
    "sug2, roc2 = tuple(antiplejo.get_building_blocks())\n",
    "sug2.write('sug_2.sdf')\n",
    "roc2.write('roc_2.sdf')"
   ]
  },
  {
   "cell_type": "code",
   "execution_count": 228,
   "metadata": {},
   "outputs": [],
   "source": [
    "%%bash\n",
    "./make-yaml.sh -h sug_1.sdf -g roc_1.sdf -f sug-roc_1.yaml\n",
    "./make-yaml.sh -h sug_2.sdf -g roc_2.sdf -f sug-roc_2.yaml"
   ]
  },
  {
   "cell_type": "code",
   "execution_count": null,
   "metadata": {},
   "outputs": [],
   "source": [
    "!yank script --yaml=sug-roc_1.yaml"
   ]
  },
  {
   "cell_type": "code",
   "execution_count": null,
   "metadata": {},
   "outputs": [],
   "source": [
    "!yank script --yaml=sug-roc_2.yaml"
   ]
  }
 ]
}